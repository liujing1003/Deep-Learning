{
 "cells": [
  {
   "cell_type": "markdown",
   "metadata": {},
   "source": [
    "# 启动TensorFlow\n",
    "* 首先import numpy as np\n",
    "* 习惯用import tensorflow as tf"
   ]
  },
  {
   "cell_type": "code",
   "execution_count": 5,
   "metadata": {},
   "outputs": [],
   "source": [
    "import numpy as np\n",
    "import tensorflow as tf"
   ]
  },
  {
   "cell_type": "markdown",
   "metadata": {},
   "source": [
    "# 定义参数w（是我们要优化的参数，因此称它为变量）\n",
    "* 在TensorFlow中，要用tf.Variable来定义参数\n",
    "* 然后定义损失函数\n",
    "* 然后在写train,用梯度下降法优化器，目标是minimize(cost)\n",
    "* 下面几行是惯用表达"
   ]
  },
  {
   "cell_type": "markdown",
   "metadata": {},
   "source": [
    "# TensorFlow还有一个特点：\n",
    "## 这个例子将w的一个固定函数最小化，如果你想要最小化的函数是训练奇函数又如何呢?\n",
    "## 不管你有什么训练数据x，当你训练神经网络时，训练数据x会改变，那么如何把训练数据加入TensorFlow程序呢？\n",
    "* 我会定义t和x,把他想做扮演训练数据的角色，事实上训练数据有x和y，但这个例子中只有x\n",
    "* 现在如果你想改变这个二次函数的系数通过修改coefficients"
   ]
  },
  {
   "cell_type": "code",
   "execution_count": 13,
   "metadata": {},
   "outputs": [
    {
     "name": "stdout",
     "output_type": "stream",
     "text": [
      "0.0\n"
     ]
    }
   ],
   "source": [
    "coefficients=np.array([[1.],[-10.],[25.]]) #我们要接入x的数值，最后我们要以某种方式把这个系数数组接入变量x\n",
    "\n",
    "w=tf.Variable(0,dtype=tf.float32)\n",
    "x=tf.placeholder(tf.float32,[3,1]) # x的类型是float32,让它成为[3,1]数组，placeholder告诉Tensorflow你稍后会为x提供数值，再定义一个数组\n",
    "#cost=tf.add(tf.add(w**2,tf.multiply(-10.,w)),25)\n",
    "#cost=w**2-10*w+25 #我们可以把这些数字系数变成数据\n",
    "cost=x[0][0]*w**2+x[1][0]*w+x[2][0] #现在x变成了控制这个二次函数系数的数据，构建了一个计算图\n",
    "train=tf.train.GradientDescentOptimizer(0.01).minimize(cost)\n",
    "\n",
    "init=tf.global_variables_initializer()\n",
    "session=tf.Session() #这样就开启了一个TensorFlow session\n",
    "session.run(init)  #初始化全局变量\n",
    "print(session.run(w)) #我们评估了w"
   ]
  },
  {
   "cell_type": "markdown",
   "metadata": {},
   "source": [
    "# 运行一步梯度下降法\n",
    "* 然后我们评估一下w的值，再print"
   ]
  },
  {
   "cell_type": "code",
   "execution_count": 15,
   "metadata": {},
   "outputs": [
    {
     "name": "stdout",
     "output_type": "stream",
     "text": [
      "0.1\n"
     ]
    }
   ],
   "source": [
    "#session.run(train)\n",
    "session.run(train,feed_dict={x:coefficients}) #用这句语法让x等于coefficients\n",
    "print(session.run(w))"
   ]
  },
  {
   "cell_type": "markdown",
   "metadata": {},
   "source": [
    "# 运行梯度下降1000次迭代"
   ]
  },
  {
   "cell_type": "code",
   "execution_count": 16,
   "metadata": {},
   "outputs": [
    {
     "name": "stdout",
     "output_type": "stream",
     "text": [
      "4.99999\n"
     ]
    }
   ],
   "source": [
    "for i in range(1000):\n",
    "    #session.run(train)\n",
    "    session.run(train,feed_dict={x:coefficients})\n",
    "print(session.run(w))\n"
   ]
  },
  {
   "cell_type": "markdown",
   "metadata": {},
   "source": [
    "TensorFlow已经内置了所有必要的反向函数，训练深度神经网络时有一组前向函数和一组反向函数，而像TensorFlow之类的编程框架已经内置了必要的反向函数。"
   ]
  }
 ],
 "metadata": {
  "kernelspec": {
   "display_name": "Python 3",
   "language": "python",
   "name": "python3"
  },
  "language_info": {
   "codemirror_mode": {
    "name": "ipython",
    "version": 3
   },
   "file_extension": ".py",
   "mimetype": "text/x-python",
   "name": "python",
   "nbconvert_exporter": "python",
   "pygments_lexer": "ipython3",
   "version": "3.6.2"
  }
 },
 "nbformat": 4,
 "nbformat_minor": 2
}
